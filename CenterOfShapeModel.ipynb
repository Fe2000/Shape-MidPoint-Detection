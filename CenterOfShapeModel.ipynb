{
 "cells": [
  {
   "cell_type": "markdown",
   "id": "61bb8e75",
   "metadata": {},
   "source": [
    "# Libraries and Imports"
   ]
  },
  {
   "cell_type": "code",
   "execution_count": 1,
   "id": "685c0b8a",
   "metadata": {},
   "outputs": [],
   "source": [
    "from keras.models import *\n",
    "from keras.layers import *\n",
    "from keras import Input\n",
    "from keras import Sequential\n",
    "from tensorflow import keras\n",
    "from keras import metrics\n",
    "\n",
    "import pandas as pd\n",
    "\n",
    "from sklearn.preprocessing import OneHotEncoder, StandardScaler\n",
    "from sklearn.preprocessing import MinMaxScaler\n",
    "from sklearn.model_selection import train_test_split\n",
    "\n",
    "import numpy as np                      \n",
    "\n",
    "from PIL import Image, ImageOps\n",
    "from matplotlib import pyplot as plt    \n",
    "import cv2\n",
    "import math\n",
    "import tensorflow as tf\n",
    "\n",
    "import sys\n"
   ]
  },
  {
   "cell_type": "code",
   "execution_count": 2,
   "id": "63ee2a92",
   "metadata": {},
   "outputs": [
    {
     "name": "stdout",
     "output_type": "stream",
     "text": [
      "nums of GPus:  1\n"
     ]
    }
   ],
   "source": [
    "# Checks if GPU is available\n",
    "print(\"nums of GPus: \", len(tf.config.experimental.list_physical_devices('GPU')))"
   ]
  },
  {
   "cell_type": "markdown",
   "id": "0abffebf",
   "metadata": {},
   "source": [
    "# Data and Preprocessing"
   ]
  },
  {
   "cell_type": "code",
   "execution_count": 3,
   "id": "661dced1",
   "metadata": {},
   "outputs": [],
   "source": [
    "path = 'data.csv'"
   ]
  },
  {
   "cell_type": "code",
   "execution_count": 4,
   "id": "036de4e7",
   "metadata": {},
   "outputs": [],
   "source": [
    "data = pd.read_csv(path , nrows= 15000)"
   ]
  },
  {
   "cell_type": "code",
   "execution_count": 5,
   "id": "91d46d1d",
   "metadata": {},
   "outputs": [
    {
     "data": {
      "text/html": [
       "<div>\n",
       "<style scoped>\n",
       "    .dataframe tbody tr th:only-of-type {\n",
       "        vertical-align: middle;\n",
       "    }\n",
       "\n",
       "    .dataframe tbody tr th {\n",
       "        vertical-align: top;\n",
       "    }\n",
       "\n",
       "    .dataframe thead th {\n",
       "        text-align: right;\n",
       "    }\n",
       "</style>\n",
       "<table border=\"1\" class=\"dataframe\">\n",
       "  <thead>\n",
       "    <tr style=\"text-align: right;\">\n",
       "      <th></th>\n",
       "      <th>Files</th>\n",
       "      <th>Label</th>\n",
       "      <th>Centers</th>\n",
       "    </tr>\n",
       "  </thead>\n",
       "  <tbody>\n",
       "    <tr>\n",
       "      <th>0</th>\n",
       "      <td>images/img0.jpg</td>\n",
       "      <td>rectangle</td>\n",
       "      <td>(341, 265)</td>\n",
       "    </tr>\n",
       "    <tr>\n",
       "      <th>1</th>\n",
       "      <td>images/img1.jpg</td>\n",
       "      <td>triangle</td>\n",
       "      <td>(383, 199)</td>\n",
       "    </tr>\n",
       "    <tr>\n",
       "      <th>2</th>\n",
       "      <td>images/img2.jpg</td>\n",
       "      <td>rectangle</td>\n",
       "      <td>(487, 280)</td>\n",
       "    </tr>\n",
       "    <tr>\n",
       "      <th>3</th>\n",
       "      <td>images/img3.jpg</td>\n",
       "      <td>triangle</td>\n",
       "      <td>(389, 257)</td>\n",
       "    </tr>\n",
       "    <tr>\n",
       "      <th>4</th>\n",
       "      <td>images/img4.jpg</td>\n",
       "      <td>triangle</td>\n",
       "      <td>(145, 221)</td>\n",
       "    </tr>\n",
       "    <tr>\n",
       "      <th>...</th>\n",
       "      <td>...</td>\n",
       "      <td>...</td>\n",
       "      <td>...</td>\n",
       "    </tr>\n",
       "    <tr>\n",
       "      <th>14995</th>\n",
       "      <td>images/img14995.jpg</td>\n",
       "      <td>rectangle</td>\n",
       "      <td>(259, 227)</td>\n",
       "    </tr>\n",
       "    <tr>\n",
       "      <th>14996</th>\n",
       "      <td>images/img14996.jpg</td>\n",
       "      <td>triangle</td>\n",
       "      <td>(356, 268)</td>\n",
       "    </tr>\n",
       "    <tr>\n",
       "      <th>14997</th>\n",
       "      <td>images/img14997.jpg</td>\n",
       "      <td>rectangle</td>\n",
       "      <td>(341, 272)</td>\n",
       "    </tr>\n",
       "    <tr>\n",
       "      <th>14998</th>\n",
       "      <td>images/img14998.jpg</td>\n",
       "      <td>triangle</td>\n",
       "      <td>(355, 107)</td>\n",
       "    </tr>\n",
       "    <tr>\n",
       "      <th>14999</th>\n",
       "      <td>images/img14999.jpg</td>\n",
       "      <td>rectangle</td>\n",
       "      <td>(241, 166)</td>\n",
       "    </tr>\n",
       "  </tbody>\n",
       "</table>\n",
       "<p>15000 rows × 3 columns</p>\n",
       "</div>"
      ],
      "text/plain": [
       "                     Files      Label     Centers\n",
       "0          images/img0.jpg  rectangle  (341, 265)\n",
       "1          images/img1.jpg   triangle  (383, 199)\n",
       "2          images/img2.jpg  rectangle  (487, 280)\n",
       "3          images/img3.jpg   triangle  (389, 257)\n",
       "4          images/img4.jpg   triangle  (145, 221)\n",
       "...                    ...        ...         ...\n",
       "14995  images/img14995.jpg  rectangle  (259, 227)\n",
       "14996  images/img14996.jpg   triangle  (356, 268)\n",
       "14997  images/img14997.jpg  rectangle  (341, 272)\n",
       "14998  images/img14998.jpg   triangle  (355, 107)\n",
       "14999  images/img14999.jpg  rectangle  (241, 166)\n",
       "\n",
       "[15000 rows x 3 columns]"
      ]
     },
     "execution_count": 5,
     "metadata": {},
     "output_type": "execute_result"
    }
   ],
   "source": [
    "data"
   ]
  },
  {
   "cell_type": "code",
   "execution_count": 6,
   "id": "a1b2cb79",
   "metadata": {},
   "outputs": [],
   "source": [
    "images = [ np.asarray(ImageOps.grayscale(Image.open(x)), dtype = 'float32')/255  for x in data['Files'] ]"
   ]
  },
  {
   "cell_type": "code",
   "execution_count": 7,
   "id": "86bbbe74",
   "metadata": {},
   "outputs": [],
   "source": [
    "Y1 = data.iloc[ : , 2:3 ]\n",
    "\n",
    "\n",
    "Y1 = pd.DataFrame(Y1)"
   ]
  },
  {
   "cell_type": "code",
   "execution_count": 8,
   "id": "155fa2ef",
   "metadata": {},
   "outputs": [
    {
     "data": {
      "text/html": [
       "<div>\n",
       "<style scoped>\n",
       "    .dataframe tbody tr th:only-of-type {\n",
       "        vertical-align: middle;\n",
       "    }\n",
       "\n",
       "    .dataframe tbody tr th {\n",
       "        vertical-align: top;\n",
       "    }\n",
       "\n",
       "    .dataframe thead th {\n",
       "        text-align: right;\n",
       "    }\n",
       "</style>\n",
       "<table border=\"1\" class=\"dataframe\">\n",
       "  <thead>\n",
       "    <tr style=\"text-align: right;\">\n",
       "      <th></th>\n",
       "      <th>Centers</th>\n",
       "    </tr>\n",
       "  </thead>\n",
       "  <tbody>\n",
       "    <tr>\n",
       "      <th>0</th>\n",
       "      <td>(341, 265)</td>\n",
       "    </tr>\n",
       "    <tr>\n",
       "      <th>1</th>\n",
       "      <td>(383, 199)</td>\n",
       "    </tr>\n",
       "    <tr>\n",
       "      <th>2</th>\n",
       "      <td>(487, 280)</td>\n",
       "    </tr>\n",
       "    <tr>\n",
       "      <th>3</th>\n",
       "      <td>(389, 257)</td>\n",
       "    </tr>\n",
       "    <tr>\n",
       "      <th>4</th>\n",
       "      <td>(145, 221)</td>\n",
       "    </tr>\n",
       "    <tr>\n",
       "      <th>...</th>\n",
       "      <td>...</td>\n",
       "    </tr>\n",
       "    <tr>\n",
       "      <th>14995</th>\n",
       "      <td>(259, 227)</td>\n",
       "    </tr>\n",
       "    <tr>\n",
       "      <th>14996</th>\n",
       "      <td>(356, 268)</td>\n",
       "    </tr>\n",
       "    <tr>\n",
       "      <th>14997</th>\n",
       "      <td>(341, 272)</td>\n",
       "    </tr>\n",
       "    <tr>\n",
       "      <th>14998</th>\n",
       "      <td>(355, 107)</td>\n",
       "    </tr>\n",
       "    <tr>\n",
       "      <th>14999</th>\n",
       "      <td>(241, 166)</td>\n",
       "    </tr>\n",
       "  </tbody>\n",
       "</table>\n",
       "<p>15000 rows × 1 columns</p>\n",
       "</div>"
      ],
      "text/plain": [
       "          Centers\n",
       "0      (341, 265)\n",
       "1      (383, 199)\n",
       "2      (487, 280)\n",
       "3      (389, 257)\n",
       "4      (145, 221)\n",
       "...           ...\n",
       "14995  (259, 227)\n",
       "14996  (356, 268)\n",
       "14997  (341, 272)\n",
       "14998  (355, 107)\n",
       "14999  (241, 166)\n",
       "\n",
       "[15000 rows x 1 columns]"
      ]
     },
     "execution_count": 8,
     "metadata": {},
     "output_type": "execute_result"
    }
   ],
   "source": [
    "Y1"
   ]
  },
  {
   "cell_type": "code",
   "execution_count": 9,
   "id": "fa36566e",
   "metadata": {},
   "outputs": [],
   "source": [
    "xList = []\n",
    "lList = []\n",
    "allList = []\n",
    "for x in range(15000):\n",
    "    \n",
    "    temp = Y1['Centers'][x].split(\",\")\n",
    "    temp[0] = temp[0].replace(\"(\" , \"\")\n",
    "    temp[1] = temp[1].replace(\")\" , \"\")\n",
    "    temp[1] = temp[1].replace(\" \" , \"\")\n",
    "    \n",
    "    xList.append(temp[0])\n",
    "    lList.append(temp[1])\n",
    "    tempList = [temp[0] , temp[1]]\n",
    "    allList.append(tempList)\n",
    "        "
   ]
  },
  {
   "cell_type": "code",
   "execution_count": 10,
   "id": "a2b74e01",
   "metadata": {},
   "outputs": [],
   "source": [
    "Y1['x1'] = xList\n",
    "Y1['y1'] = lList\n",
    "Y1 = Y1.drop(['Centers'], axis=1)"
   ]
  },
  {
   "cell_type": "code",
   "execution_count": 11,
   "id": "bf08483b",
   "metadata": {},
   "outputs": [],
   "source": [
    "Y1 = Y1.astype(float)"
   ]
  },
  {
   "cell_type": "code",
   "execution_count": 12,
   "id": "15db7676",
   "metadata": {},
   "outputs": [
    {
     "data": {
      "text/html": [
       "<div>\n",
       "<style scoped>\n",
       "    .dataframe tbody tr th:only-of-type {\n",
       "        vertical-align: middle;\n",
       "    }\n",
       "\n",
       "    .dataframe tbody tr th {\n",
       "        vertical-align: top;\n",
       "    }\n",
       "\n",
       "    .dataframe thead th {\n",
       "        text-align: right;\n",
       "    }\n",
       "</style>\n",
       "<table border=\"1\" class=\"dataframe\">\n",
       "  <thead>\n",
       "    <tr style=\"text-align: right;\">\n",
       "      <th></th>\n",
       "      <th>x1</th>\n",
       "      <th>y1</th>\n",
       "    </tr>\n",
       "  </thead>\n",
       "  <tbody>\n",
       "    <tr>\n",
       "      <th>0</th>\n",
       "      <td>341.0</td>\n",
       "      <td>265.0</td>\n",
       "    </tr>\n",
       "    <tr>\n",
       "      <th>1</th>\n",
       "      <td>383.0</td>\n",
       "      <td>199.0</td>\n",
       "    </tr>\n",
       "    <tr>\n",
       "      <th>2</th>\n",
       "      <td>487.0</td>\n",
       "      <td>280.0</td>\n",
       "    </tr>\n",
       "    <tr>\n",
       "      <th>3</th>\n",
       "      <td>389.0</td>\n",
       "      <td>257.0</td>\n",
       "    </tr>\n",
       "    <tr>\n",
       "      <th>4</th>\n",
       "      <td>145.0</td>\n",
       "      <td>221.0</td>\n",
       "    </tr>\n",
       "    <tr>\n",
       "      <th>...</th>\n",
       "      <td>...</td>\n",
       "      <td>...</td>\n",
       "    </tr>\n",
       "    <tr>\n",
       "      <th>14995</th>\n",
       "      <td>259.0</td>\n",
       "      <td>227.0</td>\n",
       "    </tr>\n",
       "    <tr>\n",
       "      <th>14996</th>\n",
       "      <td>356.0</td>\n",
       "      <td>268.0</td>\n",
       "    </tr>\n",
       "    <tr>\n",
       "      <th>14997</th>\n",
       "      <td>341.0</td>\n",
       "      <td>272.0</td>\n",
       "    </tr>\n",
       "    <tr>\n",
       "      <th>14998</th>\n",
       "      <td>355.0</td>\n",
       "      <td>107.0</td>\n",
       "    </tr>\n",
       "    <tr>\n",
       "      <th>14999</th>\n",
       "      <td>241.0</td>\n",
       "      <td>166.0</td>\n",
       "    </tr>\n",
       "  </tbody>\n",
       "</table>\n",
       "<p>15000 rows × 2 columns</p>\n",
       "</div>"
      ],
      "text/plain": [
       "          x1     y1\n",
       "0      341.0  265.0\n",
       "1      383.0  199.0\n",
       "2      487.0  280.0\n",
       "3      389.0  257.0\n",
       "4      145.0  221.0\n",
       "...      ...    ...\n",
       "14995  259.0  227.0\n",
       "14996  356.0  268.0\n",
       "14997  341.0  272.0\n",
       "14998  355.0  107.0\n",
       "14999  241.0  166.0\n",
       "\n",
       "[15000 rows x 2 columns]"
      ]
     },
     "execution_count": 12,
     "metadata": {},
     "output_type": "execute_result"
    }
   ],
   "source": [
    "Y1"
   ]
  },
  {
   "cell_type": "code",
   "execution_count": 13,
   "id": "abbc0cdf",
   "metadata": {},
   "outputs": [
    {
     "data": {
      "text/plain": [
       "x1    554.0\n",
       "y1    371.0\n",
       "dtype: float64"
      ]
     },
     "execution_count": 13,
     "metadata": {},
     "output_type": "execute_result"
    }
   ],
   "source": [
    "maxNums = Y1.max(axis = 0)\n",
    "maxNums"
   ]
  },
  {
   "cell_type": "code",
   "execution_count": 14,
   "id": "a1ad97c1",
   "metadata": {},
   "outputs": [],
   "source": [
    "Y1['x1'] = Y1['x1']/maxNums[0]\n",
    "Y1['y1'] = Y1['y1']/maxNums[1]"
   ]
  },
  {
   "cell_type": "code",
   "execution_count": 15,
   "id": "7e095852",
   "metadata": {},
   "outputs": [
    {
     "data": {
      "text/html": [
       "<div>\n",
       "<style scoped>\n",
       "    .dataframe tbody tr th:only-of-type {\n",
       "        vertical-align: middle;\n",
       "    }\n",
       "\n",
       "    .dataframe tbody tr th {\n",
       "        vertical-align: top;\n",
       "    }\n",
       "\n",
       "    .dataframe thead th {\n",
       "        text-align: right;\n",
       "    }\n",
       "</style>\n",
       "<table border=\"1\" class=\"dataframe\">\n",
       "  <thead>\n",
       "    <tr style=\"text-align: right;\">\n",
       "      <th></th>\n",
       "      <th>x1</th>\n",
       "      <th>y1</th>\n",
       "    </tr>\n",
       "  </thead>\n",
       "  <tbody>\n",
       "    <tr>\n",
       "      <th>0</th>\n",
       "      <td>0.615523</td>\n",
       "      <td>0.714286</td>\n",
       "    </tr>\n",
       "    <tr>\n",
       "      <th>1</th>\n",
       "      <td>0.691336</td>\n",
       "      <td>0.536388</td>\n",
       "    </tr>\n",
       "    <tr>\n",
       "      <th>2</th>\n",
       "      <td>0.879061</td>\n",
       "      <td>0.754717</td>\n",
       "    </tr>\n",
       "    <tr>\n",
       "      <th>3</th>\n",
       "      <td>0.702166</td>\n",
       "      <td>0.692722</td>\n",
       "    </tr>\n",
       "    <tr>\n",
       "      <th>4</th>\n",
       "      <td>0.261733</td>\n",
       "      <td>0.595687</td>\n",
       "    </tr>\n",
       "    <tr>\n",
       "      <th>...</th>\n",
       "      <td>...</td>\n",
       "      <td>...</td>\n",
       "    </tr>\n",
       "    <tr>\n",
       "      <th>14995</th>\n",
       "      <td>0.467509</td>\n",
       "      <td>0.611860</td>\n",
       "    </tr>\n",
       "    <tr>\n",
       "      <th>14996</th>\n",
       "      <td>0.642599</td>\n",
       "      <td>0.722372</td>\n",
       "    </tr>\n",
       "    <tr>\n",
       "      <th>14997</th>\n",
       "      <td>0.615523</td>\n",
       "      <td>0.733154</td>\n",
       "    </tr>\n",
       "    <tr>\n",
       "      <th>14998</th>\n",
       "      <td>0.640794</td>\n",
       "      <td>0.288410</td>\n",
       "    </tr>\n",
       "    <tr>\n",
       "      <th>14999</th>\n",
       "      <td>0.435018</td>\n",
       "      <td>0.447439</td>\n",
       "    </tr>\n",
       "  </tbody>\n",
       "</table>\n",
       "<p>15000 rows × 2 columns</p>\n",
       "</div>"
      ],
      "text/plain": [
       "             x1        y1\n",
       "0      0.615523  0.714286\n",
       "1      0.691336  0.536388\n",
       "2      0.879061  0.754717\n",
       "3      0.702166  0.692722\n",
       "4      0.261733  0.595687\n",
       "...         ...       ...\n",
       "14995  0.467509  0.611860\n",
       "14996  0.642599  0.722372\n",
       "14997  0.615523  0.733154\n",
       "14998  0.640794  0.288410\n",
       "14999  0.435018  0.447439\n",
       "\n",
       "[15000 rows x 2 columns]"
      ]
     },
     "execution_count": 15,
     "metadata": {},
     "output_type": "execute_result"
    }
   ],
   "source": [
    "Y1"
   ]
  },
  {
   "cell_type": "code",
   "execution_count": 16,
   "id": "bdf288f1",
   "metadata": {},
   "outputs": [],
   "source": [
    "Y1 = Y1.astype(float)"
   ]
  },
  {
   "cell_type": "code",
   "execution_count": 17,
   "id": "0c932a6a",
   "metadata": {},
   "outputs": [],
   "source": [
    "images = np.asarray(images)\n",
    "images = images.reshape(  len(images), 400, 600, 1 )"
   ]
  },
  {
   "cell_type": "code",
   "execution_count": 18,
   "id": "c84fa787",
   "metadata": {},
   "outputs": [],
   "source": [
    "x_train , x_test , y_train , y_test = train_test_split(images,Y1, test_size=0.2)"
   ]
  },
  {
   "cell_type": "markdown",
   "id": "68a82d88",
   "metadata": {},
   "source": [
    "# Model"
   ]
  },
  {
   "cell_type": "code",
   "execution_count": 26,
   "id": "17b6bdd3",
   "metadata": {},
   "outputs": [
    {
     "name": "stdout",
     "output_type": "stream",
     "text": [
      "WARNING:tensorflow:Please add `keras.layers.InputLayer` instead of `keras.Input` to Sequential model. `keras.Input` is intended to be used by Functional model.\n",
      "Model: \"sequential_2\"\n",
      "_________________________________________________________________\n",
      "Layer (type)                 Output Shape              Param #   \n",
      "=================================================================\n",
      "conv2d_8 (Conv2D)            (None, 398, 598, 2)       20        \n",
      "_________________________________________________________________\n",
      "max_pooling2d_6 (MaxPooling2 (None, 199, 299, 2)       0         \n",
      "_________________________________________________________________\n",
      "conv2d_9 (Conv2D)            (None, 197, 297, 6)       114       \n",
      "_________________________________________________________________\n",
      "max_pooling2d_7 (MaxPooling2 (None, 98, 148, 6)        0         \n",
      "_________________________________________________________________\n",
      "conv2d_10 (Conv2D)           (None, 96, 146, 12)       660       \n",
      "_________________________________________________________________\n",
      "max_pooling2d_8 (MaxPooling2 (None, 48, 73, 12)        0         \n",
      "_________________________________________________________________\n",
      "conv2d_11 (Conv2D)           (None, 46, 71, 24)        2616      \n",
      "_________________________________________________________________\n",
      "max_pooling2d_9 (MaxPooling2 (None, 23, 35, 24)        0         \n",
      "_________________________________________________________________\n",
      "flatten_2 (Flatten)          (None, 19320)             0         \n",
      "_________________________________________________________________\n",
      "dense_2 (Dense)              (None, 2)                 38642     \n",
      "=================================================================\n",
      "Total params: 42,052\n",
      "Trainable params: 42,052\n",
      "Non-trainable params: 0\n",
      "_________________________________________________________________\n"
     ]
    }
   ],
   "source": [
    "model = Sequential()\n",
    "\n",
    "model.add( Input(shape=(400,600 ,1), dtype=\"float32\"   )  )\n",
    "model.add(Conv2D(2, (3, 3), activation='relu'))\n",
    "model.add(MaxPooling2D((2, 2)))\n",
    "model.add(Conv2D(6, (3, 3), activation='relu'))\n",
    "model.add(MaxPooling2D((2, 2)))\n",
    "model.add(Conv2D(12, (3, 3), activation='relu'))\n",
    "model.add(MaxPooling2D((2, 2)))\n",
    "model.add(Conv2D(24, (3, 3), activation='relu'))\n",
    "model.add(MaxPooling2D((2, 2)))\n",
    "model.add(Flatten())\n",
    "model.add( Dense(2, activation='linear')  )\n",
    "\n",
    "\n",
    "model.summary()"
   ]
  },
  {
   "cell_type": "code",
   "execution_count": 27,
   "id": "2f7ec45c",
   "metadata": {},
   "outputs": [],
   "source": [
    "model.compile(optimizer=\"adam\",loss=\"mean_squared_error\")"
   ]
  },
  {
   "cell_type": "markdown",
   "id": "f1b06835",
   "metadata": {},
   "source": [
    "# Training"
   ]
  },
  {
   "cell_type": "code",
   "execution_count": 28,
   "id": "ac4798c1",
   "metadata": {},
   "outputs": [
    {
     "name": "stdout",
     "output_type": "stream",
     "text": [
      "Epoch 1/10\n",
      "169/169 [==============================] - 11s 61ms/step - loss: 0.0625 - val_loss: 0.0147\n",
      "Epoch 2/10\n",
      "169/169 [==============================] - 10s 58ms/step - loss: 0.0127 - val_loss: 0.0056\n",
      "Epoch 3/10\n",
      "169/169 [==============================] - 10s 57ms/step - loss: 0.0052 - val_loss: 0.0039\n",
      "Epoch 4/10\n",
      "169/169 [==============================] - 10s 58ms/step - loss: 0.0039 - val_loss: 0.0032\n",
      "Epoch 5/10\n",
      "169/169 [==============================] - 10s 57ms/step - loss: 0.0031 - val_loss: 0.0028\n",
      "Epoch 6/10\n",
      "169/169 [==============================] - 10s 57ms/step - loss: 0.0028 - val_loss: 0.0031\n",
      "Epoch 7/10\n",
      "169/169 [==============================] - 10s 58ms/step - loss: 0.0025 - val_loss: 0.0024\n",
      "Epoch 8/10\n",
      "169/169 [==============================] - 10s 60ms/step - loss: 0.0023 - val_loss: 0.0027\n",
      "Epoch 9/10\n",
      "169/169 [==============================] - 10s 57ms/step - loss: 0.0023 - val_loss: 0.0029\n",
      "Epoch 10/10\n",
      "169/169 [==============================] - 9s 54ms/step - loss: 0.0020 - val_loss: 0.0022\n"
     ]
    },
    {
     "data": {
      "text/plain": [
       "<keras.callbacks.History at 0x21dc7bc4160>"
      ]
     },
     "execution_count": 28,
     "metadata": {},
     "output_type": "execute_result"
    }
   ],
   "source": [
    "model.fit( x_train, y_train, epochs=10, batch_size=64, validation_split=0.1)"
   ]
  },
  {
   "cell_type": "markdown",
   "id": "8db9bc55",
   "metadata": {},
   "source": [
    "# Evaluation"
   ]
  },
  {
   "cell_type": "code",
   "execution_count": 29,
   "id": "22d1ba5e",
   "metadata": {},
   "outputs": [
    {
     "name": "stdout",
     "output_type": "stream",
     "text": [
      "94/94 [==============================] - 1s 12ms/step - loss: 0.0023\n"
     ]
    },
    {
     "data": {
      "text/plain": [
       "0.0022584935650229454"
      ]
     },
     "execution_count": 29,
     "metadata": {},
     "output_type": "execute_result"
    }
   ],
   "source": [
    "model.evaluate(x_test,y_test)"
   ]
  },
  {
   "cell_type": "code",
   "execution_count": 107,
   "id": "45d452d4",
   "metadata": {},
   "outputs": [
    {
     "name": "stdout",
     "output_type": "stream",
     "text": [
      "INFO:tensorflow:Assets written to: MidPointDetectMoreDataGpuV1\\assets\n"
     ]
    }
   ],
   "source": [
    "model.save('MidPointDetectMoreDataGpuV1')"
   ]
  },
  {
   "cell_type": "code",
   "execution_count": 20,
   "id": "d2a1a5f8",
   "metadata": {},
   "outputs": [],
   "source": [
    "modelCheck = keras.models.load_model('MidPointDetectMoreDataGpuV1')\n"
   ]
  },
  {
   "cell_type": "code",
   "execution_count": 26,
   "id": "efa7fcd3",
   "metadata": {},
   "outputs": [
    {
     "name": "stdout",
     "output_type": "stream",
     "text": [
      "94/94 [==============================] - 2s 14ms/step - loss: 0.0015\n"
     ]
    },
    {
     "data": {
      "text/plain": [
       "0.0015207341639325023"
      ]
     },
     "execution_count": 26,
     "metadata": {},
     "output_type": "execute_result"
    }
   ],
   "source": [
    "modelCheck.evaluate(x_test,y_test)"
   ]
  },
  {
   "cell_type": "code",
   "execution_count": 21,
   "id": "c26bef40",
   "metadata": {},
   "outputs": [
    {
     "name": "stdout",
     "output_type": "stream",
     "text": [
      "Model: \"sequential_18\"\n",
      "_________________________________________________________________\n",
      "Layer (type)                 Output Shape              Param #   \n",
      "=================================================================\n",
      "conv2d_68 (Conv2D)           (None, 398, 598, 2)       20        \n",
      "_________________________________________________________________\n",
      "max_pooling2d_62 (MaxPooling (None, 199, 299, 2)       0         \n",
      "_________________________________________________________________\n",
      "conv2d_69 (Conv2D)           (None, 197, 297, 6)       114       \n",
      "_________________________________________________________________\n",
      "max_pooling2d_63 (MaxPooling (None, 98, 148, 6)        0         \n",
      "_________________________________________________________________\n",
      "conv2d_70 (Conv2D)           (None, 96, 146, 12)       660       \n",
      "_________________________________________________________________\n",
      "max_pooling2d_64 (MaxPooling (None, 48, 73, 12)        0         \n",
      "_________________________________________________________________\n",
      "conv2d_71 (Conv2D)           (None, 46, 71, 24)        2616      \n",
      "_________________________________________________________________\n",
      "flatten_17 (Flatten)         (None, 78384)             0         \n",
      "_________________________________________________________________\n",
      "dense_17 (Dense)             (None, 2)                 156770    \n",
      "=================================================================\n",
      "Total params: 160,180\n",
      "Trainable params: 160,180\n",
      "Non-trainable params: 0\n",
      "_________________________________________________________________\n"
     ]
    }
   ],
   "source": [
    "modelCheck.summary()"
   ]
  },
  {
   "cell_type": "markdown",
   "id": "adb23889",
   "metadata": {},
   "source": [
    "# Prediction"
   ]
  },
  {
   "cell_type": "code",
   "execution_count": 56,
   "id": "3eaf6a4a",
   "metadata": {},
   "outputs": [],
   "source": [
    "def get_pred(arg1):\n",
    "    modelTest = keras.models.load_model('MidPointDetectMoreDataGpuV1')\n",
    "\n",
    "    image1 = np.asarray(ImageOps.grayscale(Image.open(arg1)), dtype = 'float32')/255\n",
    "    \n",
    "    image1 = np.asarray(image1)\n",
    "    image1 = image1.reshape(  1, 400, 600, 1 )        \n",
    "    \n",
    "    \n",
    "    result = modelTest.predict(image1)\n",
    "\n",
    "    print(\"X Cordinate:\")\n",
    "    print(result[0][0] * 554)\n",
    "    print(\"Y Cordinate:\")\n",
    "    print(result[0][1] * 371)\n",
    "    \n",
    "    img1 = Image.open(arg1)\n",
    "    \n",
    "    plt.imshow(img1, cmap=\"gray\")\n",
    "\n",
    "    # Plot random point 1\n",
    "    x1 = int(result[0][0] * 554)\n",
    "    y1 = int(result[0][1] * 371)\n",
    "\n",
    "    plt.plot( x1, y1, marker=\".\", color=\"cyan\", markersize=10 )\n",
    "\n"
   ]
  },
  {
   "cell_type": "code",
   "execution_count": 57,
   "id": "3d1568a4",
   "metadata": {},
   "outputs": [
    {
     "name": "stdout",
     "output_type": "stream",
     "text": [
      "X Cordinate:\n",
      "336.57954382896423\n",
      "Y Cordinate:\n",
      "167.62967067956924\n"
     ]
    },
    {
     "data": {
      "image/png": "[encoded data removed]",
      "text/plain": [
       "<Figure size 432x288 with 1 Axes>"
      ]
     },
     "metadata": {
      "needs_background": "light"
     },
     "output_type": "display_data"
    }
   ],
   "source": [
    "get_pred(\"images/img49999.jpg\")"
   ]
  },
  {
   "cell_type": "code",
   "execution_count": null,
   "id": "32d5129b",
   "metadata": {},
   "outputs": [],
   "source": []
  }
 ],
 "metadata": {
  "kernelspec": {
   "display_name": "Python [conda env:tensorflow-gpu] *",
   "language": "python",
   "name": "conda-env-tensorflow-gpu-py"
  },
  "language_info": {
   "codemirror_mode": {
    "name": "ipython",
    "version": 3
   },
   "file_extension": ".py",
   "mimetype": "text/x-python",
   "name": "python",
   "nbconvert_exporter": "python",
   "pygments_lexer": "ipython3",
   "version": "3.8.12"
  }
 },
 "nbformat": 4,
 "nbformat_minor": 5
}
